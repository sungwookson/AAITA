{
 "cells": [
  {
   "cell_type": "markdown",
   "metadata": {
    "id": "zvPB-BX_hgX-"
   },
   "source": [
    "# Tensorflow 2를 활용한 Multi Layer Perceptron 실습\n",
    "이번 실습에서는 Tensorflow 2를 활용하여 가장 간단한 Neural Network 구조인 MLP(Multi Layer Perceptron)을 직접 생성해 본다.<br>\n",
    "입문과정용으로 많이 쓰이는 Fashion MNIST dataset을 이용하여 옷의 종류를 구분해보는 Neural Network를 만들어 볼 것이다. <br>\n",
    "먼저 Tensorflow를 Import한다."
   ]
  },
  {
   "cell_type": "code",
   "execution_count": 1,
   "metadata": {
    "id": "lPurhqAPhgYA"
   },
   "outputs": [],
   "source": [
    "import tensorflow as tf"
   ]
  },
  {
   "cell_type": "markdown",
   "metadata": {
    "id": "shot-I-whgYB"
   },
   "source": [
    "## Dataset 불러오기\n",
    "Tensorflow에서는 Fashion MNIST dataset을 불러오기 편하도록 Library에 기본 함수로 지정해 두었다. 아래 명령어를 수행하여 데이터셋을 로드하고, Train/Test set으로 구분해 주자.<br>\n",
    "Fashion MNIST는 총 10개의 class가 있고, 각 이미지별로 0~9의 Label이 지정되어 있다. 0은 T-shirt/top, 1은 Trouser,..에 해당하고, 이를 식별하기 쉽게 class_names에 저장해 두자."
   ]
  },
  {
   "cell_type": "code",
   "execution_count": null,
   "metadata": {
    "id": "elDLiczBhgYC"
   },
   "outputs": [],
   "source": [
    "fashion_mnist = tf.keras.datasets.fashion_mnist\n",
    "\n",
    "#Load data\n",
    "###### 아래 빈칸. 실습하면서 완성 #####\n",
    "\n",
    "\n",
    "###### 빈칸 끝 ##### \n",
    "\n",
    "class_names = ['T-shirt/top', 'Trouser', 'Pullover', 'Dress', 'Coat',\n",
    "               'Sandal', 'Shirt', 'Sneaker', 'Bag', 'Ankle boot']\n",
    "\n",
    "\n",
    "#Split train set into train/valid set\n",
    "from sklearn import model_selection\n",
    "\n",
    "###### 아래 빈칸. 실습하면서 완성 #####\n",
    "\n",
    "\n",
    "###### 빈칸 끝 ##### \n"
   ]
  },
  {
   "cell_type": "markdown",
   "metadata": {
    "id": "PVhuRsRRhgYC"
   },
   "source": [
    "데이터를 보고 싶으면 matplotlib를 이용하여 확인할 수 있다."
   ]
  },
  {
   "cell_type": "code",
   "execution_count": null,
   "metadata": {
    "id": "Zh46qAtOhgYD"
   },
   "outputs": [],
   "source": [
    "import matplotlib.pyplot as plt"
   ]
  },
  {
   "cell_type": "code",
   "execution_count": null,
   "metadata": {
    "id": "UtJ-Sd0ThgYD",
    "outputId": "db459cd9-8bbb-46d2-d4e1-792b1df66338"
   },
   "outputs": [
    {
     "data": {
      "image/png": "[encoded data removed]",
      "text/plain": [
       "<Figure size 432x288 with 2 Axes>"
      ]
     },
     "metadata": {
      "needs_background": "light"
     },
     "output_type": "display_data"
    }
   ],
   "source": [
    "#Let's look at the sample data\n",
    "plt.figure()\n",
    "plt.imshow(x_train[0])\n",
    "plt.colorbar()\n",
    "plt.grid(False)\n",
    "plt.show()"
   ]
  },
  {
   "cell_type": "markdown",
   "metadata": {
    "id": "vm_1lTVYhgYE"
   },
   "source": [
    "## Model 구성하기\n",
    "이제 아주 간단한 Model을 구성해 볼 것이다.\n",
    "Tensorflow2에서 제공하는 keras의 sequential method를 사용하면 원하는 Layer를 차곡차곡 쌓아가면서 모델을 구성할 수 있다. <br>\n",
    "아래 그림과 같은 구조로 모델을 구성할 것이다.\n",
    "![image.png](attachment:image.png)\n",
    "- 28x28 image를 Input으로 받아서 1차원으로 쭉 편 다음,<br> \n",
    "- 128개 Node를 가지는 Hidden layer를 연결하고 Relu activation을 한 번 거친 후에, <br>\n",
    "- 20%를 랜덤으로 누락시키는 Drop Out를 수행한 뒤 <br>\n",
    "- 10개의 Node를 갖는 Output으로 연결하고 Softmax를 수행한다.<br>\n",
    "\n",
    "위와 같은 작업을 수행하기 위해 `tf.keras.layers`를 활용 가능하다. 그중에서도 MLP 구성을 위해서는 아래의 Layer들을 활용할 수 있다.\n",
    "- `Flatten(input_shape=(x,y,z))`: (x,y,z) 형태의 Input을 받아서 1차원 배열로 바꾸어주는 Layer이다.\n",
    "- `Dense(N, activation=activation)`: 이전 레이어를 Input으로 하고 N만큼을 Output Node로 갖는 Neural Network를 구성한다. activation을 넣어주면 계산된 값에 Activation을 적용한다.(예: ReLU, Softmax 등)\n",
    "- `Dropout(p)`: 이전 레이어의 Node의 값을 p만큼의 비율로 0으로 만들어 준다."
   ]
  },
  {
   "cell_type": "code",
   "execution_count": null,
   "metadata": {
    "id": "HQL6VGeihgYF"
   },
   "outputs": [],
   "source": [
    "model = tf.keras.models.Sequential([\n",
    "    ###### 아래 빈칸. 실습하면서 완성 #####\n",
    "\n",
    "    ###### 빈칸 끝 ##### \n",
    "\n",
    "])"
   ]
  },
  {
   "cell_type": "markdown",
   "metadata": {
    "id": "KFQGPGvFhgYF"
   },
   "source": [
    "다음으로 Loss, Optimizer, Metrics등을 정의하여 모델을 컴파일해준다.<br>\n",
    "- 10개 중 하나로 Classification하는 문제이므로 `SparseCategoricalCrossentropy`를 Loss로 사용해준다. Loss는 `tf.keras.losses` 라이브러리를 사용할 수 있다.\n",
    "- Optimizer는 가장 널리 쓰이는 방법론 중 하나인 Adam을 사용하자. Optimizer는 `tf.keras.optimizers` 라이브러리를 사용할 수 있다."
   ]
  },
  {
   "cell_type": "code",
   "execution_count": null,
   "metadata": {
    "id": "6Zkp4faphgYF"
   },
   "outputs": [],
   "source": [
    "###### 아래 빈칸. 실습하면서 완성 #####\n",
    "\n",
    "###### 빈칸 끝 #####"
   ]
  },
  {
   "cell_type": "code",
   "execution_count": null,
   "metadata": {
    "id": "TE6rC0nnhgYG"
   },
   "outputs": [],
   "source": [
    "model.compile(optimizer=optim_fn,\n",
    "              loss=loss_fn,\n",
    "              metrics=['accuracy'])"
   ]
  },
  {
   "cell_type": "code",
   "execution_count": null,
   "metadata": {
    "id": "01BaB7XghgYG",
    "outputId": "0b83965f-a99d-427b-b59b-c32288aabcb4"
   },
   "outputs": [
    {
     "name": "stdout",
     "output_type": "stream",
     "text": [
      "Model: \"sequential\"\n",
      "_________________________________________________________________\n",
      "Layer (type)                 Output Shape              Param #   \n",
      "=================================================================\n",
      "flatten_1 (Flatten)          (None, 784)               0         \n",
      "_________________________________________________________________\n",
      "dense (Dense)                (None, 128)               100480    \n",
      "_________________________________________________________________\n",
      "dropout (Dropout)            (None, 128)               0         \n",
      "_________________________________________________________________\n",
      "dense_1 (Dense)              (None, 10)                1290      \n",
      "=================================================================\n",
      "Total params: 101,770\n",
      "Trainable params: 101,770\n",
      "Non-trainable params: 0\n",
      "_________________________________________________________________\n"
     ]
    }
   ],
   "source": [
    "model.summary()"
   ]
  },
  {
   "cell_type": "markdown",
   "metadata": {
    "id": "3uc0XEinhgYG"
   },
   "source": [
    "## 모델 트레이닝\n",
    "model.fit 명령어를 이용하면 우리가 구성한 모델을 트레이닝할 수 있다."
   ]
  },
  {
   "cell_type": "code",
   "execution_count": null,
   "metadata": {
    "id": "jO7WMBzlhgYG",
    "outputId": "e7b05644-bc86-4fe9-8e98-5152777255d1"
   },
   "outputs": [
    {
     "name": "stdout",
     "output_type": "stream",
     "text": [
      "Train on 48000 samples, validate on 12000 samples\n",
      "Epoch 1/10\n",
      "48000/48000 [==============================] - 9s 196us/sample - loss: 1.7333 - accuracy: 0.7353 - val_loss: 1.6909 - val_accuracy: 0.7733\n",
      "Epoch 2/10\n",
      "48000/48000 [==============================] - 8s 177us/sample - loss: 1.6849 - accuracy: 0.7782 - val_loss: 1.6849 - val_accuracy: 0.7768\n",
      "Epoch 3/10\n",
      "48000/48000 [==============================] - 8s 171us/sample - loss: 1.6760 - accuracy: 0.7866 - val_loss: 1.6731 - val_accuracy: 0.7893\n",
      "Epoch 4/10\n",
      "48000/48000 [==============================] - 8s 176us/sample - loss: 1.6688 - accuracy: 0.7930 - val_loss: 1.6696 - val_accuracy: 0.7927\n",
      "Epoch 5/10\n",
      "48000/48000 [==============================] - 6s 132us/sample - loss: 1.6647 - accuracy: 0.7978 - val_loss: 1.6660 - val_accuracy: 0.7966\n",
      "Epoch 6/10\n",
      "48000/48000 [==============================] - 6s 117us/sample - loss: 1.6596 - accuracy: 0.8025 - val_loss: 1.6569 - val_accuracy: 0.8044\n",
      "Epoch 7/10\n",
      "48000/48000 [==============================] - 6s 116us/sample - loss: 1.6571 - accuracy: 0.8040 - val_loss: 1.6556 - val_accuracy: 0.8048\n",
      "Epoch 8/10\n",
      "48000/48000 [==============================] - 6s 117us/sample - loss: 1.6531 - accuracy: 0.8083 - val_loss: 1.6566 - val_accuracy: 0.8059\n",
      "Epoch 9/10\n",
      "48000/48000 [==============================] - 6s 117us/sample - loss: 1.6506 - accuracy: 0.8111 - val_loss: 1.6518 - val_accuracy: 0.8088\n",
      "Epoch 10/10\n",
      "48000/48000 [==============================] - 6s 117us/sample - loss: 1.6486 - accuracy: 0.8128 - val_loss: 1.6516 - val_accuracy: 0.8103\n"
     ]
    }
   ],
   "source": [
    "hist = model.fit(x_train, y_train, epochs=10, validation_data=(x_valid, y_valid))"
   ]
  },
  {
   "cell_type": "markdown",
   "metadata": {
    "id": "zPCtkYfKhgYH"
   },
   "source": [
    "## 트레이닝 결과 확인\n",
    "트레이닝이 진행됨에 따라 Loss는 줄어들고 Accuracy는 올라가야 할 것이고,<br>\n",
    "이런 트렌드가 관찰되지 않는다면 무언가 잘못되었다고 볼 수 있다. <br>\n",
    "그래프를 그려서 실제로 이런 트렌드가 관찰되는지 확인해 보자."
   ]
  },
  {
   "cell_type": "code",
   "execution_count": null,
   "metadata": {
    "id": "Lrpf4SHWhgYH",
    "outputId": "acf55b16-86ed-47c8-acde-b5964de7c507"
   },
   "outputs": [
    {
     "data": {
      "image/png": "[encoded data removed]",
      "text/plain": [
       "<Figure size 576x576 with 2 Axes>"
      ]
     },
     "metadata": {
      "needs_background": "light"
     },
     "output_type": "display_data"
    }
   ],
   "source": [
    "# Get Training accuray & Validation accuracy from history\n",
    "acc = hist.history['accuracy']\n",
    "val_acc = hist.history['val_accuracy']\n",
    "\n",
    "# Get Training loss & Validation loss from history\n",
    "loss = hist.history['loss']\n",
    "val_loss = hist.history['val_loss']\n",
    "\n",
    "# Let's visualize accuracy\n",
    "plt.figure(figsize=(8, 8))\n",
    "plt.subplot(2, 1, 1)\n",
    "plt.plot(acc, label='Training Accuracy')\n",
    "plt.plot(val_acc, label='Validation Accuracy')\n",
    "plt.legend(loc='lower right')\n",
    "plt.ylabel('Accuracy')\n",
    "plt.ylim([min(plt.ylim()),1])\n",
    "plt.title('Training and Validation Accuracy')\n",
    "\n",
    "# Let's visualize loss\n",
    "plt.subplot(2, 1, 2)\n",
    "plt.plot(loss, label='Training Loss')\n",
    "plt.plot(val_loss, label='Validation Loss')\n",
    "plt.legend(loc='upper right')\n",
    "plt.ylabel('Cross Entropy')\n",
    "plt.ylim([0,3.0])\n",
    "plt.title('Training and Validation Loss')\n",
    "plt.xlabel('epoch')\n",
    "plt.show()"
   ]
  },
  {
   "cell_type": "markdown",
   "metadata": {
    "id": "6wEhjRpOhgYH"
   },
   "source": [
    "`model.evaluate` 함수를 통해 Test set에 대해서도 Accuracy가 잘 나오는지 확인해 보자."
   ]
  },
  {
   "cell_type": "code",
   "execution_count": null,
   "metadata": {
    "id": "gVSHaPF5hgYH",
    "outputId": "92da4efb-bec0-4ede-d0d4-bfb062f932e0"
   },
   "outputs": [
    {
     "name": "stdout",
     "output_type": "stream",
     "text": [
      "10000/10000 - 1s - loss: 1.6571 - accuracy: 0.8047\n"
     ]
    },
    {
     "data": {
      "text/plain": [
       "[1.6570690578460694, 0.8047]"
      ]
     },
     "execution_count": 20,
     "metadata": {},
     "output_type": "execute_result"
    }
   ],
   "source": [
    "model.evaluate(x_test, y_test, verbose=2)"
   ]
  },
  {
   "cell_type": "code",
   "execution_count": null,
   "metadata": {
    "id": "TyIa6X9whgYH"
   },
   "outputs": [],
   "source": [
    "predictions = model.predict(x_test)"
   ]
  },
  {
   "cell_type": "markdown",
   "metadata": {
    "id": "HhWXs7LLhgYI"
   },
   "source": [
    "Test set에서 하나의 샘플을 추출하여 정답과 예측 결과를 비교해 볼 수도 있다."
   ]
  },
  {
   "cell_type": "code",
   "execution_count": null,
   "metadata": {
    "id": "hSV9SN6xhgYI"
   },
   "outputs": [],
   "source": [
    "import numpy as np\n",
    "#Plot image with label\n",
    "def plot_image(i, predictions_array, true_label, img):\n",
    "    predictions_array, true_label, img = predictions_array[i], true_label[i], img[i]\n",
    "    plt.grid(False)\n",
    "    plt.xticks([])\n",
    "    plt.yticks([])\n",
    "\n",
    "    plt.imshow(img, cmap=plt.cm.binary)\n",
    "    predicted_label = np.argmax(predictions_array)\n",
    "    if predicted_label == true_label:\n",
    "        color = 'blue'\n",
    "    else:\n",
    "        color = 'red'\n",
    "\n",
    "    plt.xlabel(\"{} {:2.0f}% ({})\".format(class_names[predicted_label],\n",
    "                                100*np.max(predictions_array),\n",
    "                                class_names[true_label]),\n",
    "                                color=color)\n",
    "#Plot \n",
    "def plot_value_array(i, predictions_array, true_label):\n",
    "    predictions_array, true_label = predictions_array[i], true_label[i]\n",
    "    plt.grid(False)\n",
    "    plt.xticks([])\n",
    "    plt.yticks([])\n",
    "    thisplot = plt.bar(range(10), predictions_array, color='gray')\n",
    "    plt.ylim([0,1])\n",
    "    predicted_label = np.argmax(predictions_array)\n",
    "    _ = plt.xticks(range(10), class_names, rotation=45)\n",
    "\n",
    "    thisplot[predicted_label].set_color('red')\n",
    "    thisplot[true_label].set_color('blue')"
   ]
  },
  {
   "cell_type": "code",
   "execution_count": null,
   "metadata": {
    "id": "KJf4eAu7hgYI",
    "outputId": "80407648-5199-4b50-dc42-38a7d36e4e6e",
    "scrolled": true
   },
   "outputs": [
    {
     "data": {
      "image/png": "[encoded data removed]",
      "text/plain": [
       "<Figure size 432x216 with 2 Axes>"
      ]
     },
     "metadata": {
      "needs_background": "light"
     },
     "output_type": "display_data"
    }
   ],
   "source": [
    "i = 10\n",
    "plt.figure(figsize=(6,3))\n",
    "plt.subplot(1,2,1)\n",
    "plot_image(i, predictions, y_test, x_test)\n",
    "plt.subplot(1,2,2)\n",
    "plot_value_array(i, predictions, y_test)\n",
    "plt.show()"
   ]
  },
  {
   "cell_type": "markdown",
   "metadata": {
    "id": "1R-g2fHuhgYJ"
   },
   "source": [
    "# 과제: CIFAR10 데이터셋을 이용하여 MLP 모델 만들고 훈련시키기\n",
    "다른 데이터셋을 이용하여 스스로 MLP를 구성하고 훈련해 보자. <br>\n",
    "10개의 서로 다른 class를 가진 CIFAR10 데이터셋을 이용하여 비슷하게 MLP 모델을 만들고 훈련하여 제출하시오. <br>\n",
    "모델은 최소한 3개 이상의 Dense layer를 사용하여 구성하여야 하고 0.4 이상의 Validation accuracy를 달성할 때까지 훈련을 진행하시오. 또한 Regularizer를 한번 이상 활용하시오.(Dropout 제외) <br>\n",
    "*주의*: Fashion MNIST와 CIFAR10은 Input의 shape가 다르므로 이를 잘 고려해야 한다."
   ]
  },
  {
   "cell_type": "markdown",
   "metadata": {
    "id": "fYG-JyHNhgYJ"
   },
   "source": [
    "HW1_학번_이름.ipynb 형태로 저장하여 Jupyter Notebook을 그대로 제출! <br>\n",
    "(예: HW1_2020_12345_keondo.ipynb) <br>\n",
    "훈련을 진행하고 Output을 지우지 말고 제출할 것!"
   ]
  },
  {
   "cell_type": "code",
   "execution_count": null,
   "metadata": {
    "id": "P7Kthqz-hgYJ"
   },
   "outputs": [],
   "source": [
    "cifar10 = tf.keras.datasets.cifar10\n",
    "\n",
    "#Load data\n",
    "(x_train, y_train), (x_test, y_test) = cifar10.load_data()\n",
    "\n",
    "#Split train set into train/valid set\n",
    "from sklearn import model_selection\n",
    "x_train, x_valid, y_train, y_valid = model_selection.train_test_split(x_train, y_train,test_size=0.2)\n",
    "\n",
    "#Rescale data to be in the range of [0,1]\n",
    "x_train, x_valid, x_test = x_train / 255.0, x_valid / 255.0, x_test / 255.0\n",
    "class_names = ['airplane', 'automobile', 'bird', 'cat', 'deer',\n",
    "               'dog', 'frog', 'horse', 'ship', 'truck']"
   ]
  },
  {
   "cell_type": "code",
   "execution_count": null,
   "metadata": {
    "id": "Um32gK5thgYJ",
    "outputId": "a96f57d2-c6a7-41a1-8575-65c92a886843"
   },
   "outputs": [
    {
     "data": {
      "image/png": "[encoded data removed]",
      "text/plain": [
       "<Figure size 432x288 with 2 Axes>"
      ]
     },
     "metadata": {
      "needs_background": "light"
     },
     "output_type": "display_data"
    }
   ],
   "source": [
    "#Let's look at the sample data\n",
    "plt.figure()\n",
    "plt.imshow(x_train[0])\n",
    "plt.colorbar()\n",
    "plt.grid(False)\n",
    "plt.show()"
   ]
  },
  {
   "cell_type": "markdown",
   "metadata": {
    "id": "cvCh910-hgYK"
   },
   "source": [
    "---\n",
    "여기부터 수강생의 코드를 추가하시오"
   ]
  },
  {
   "cell_type": "code",
   "execution_count": null,
   "metadata": {
    "id": "JZvo0bP5hgYL"
   },
   "outputs": [],
   "source": []
  }
 ],
 "metadata": {
  "colab": {
   "name": "Practice_MLP_dist.ipynb",
   "provenance": []
  },
  "kernelspec": {
   "display_name": "Python 3",
   "language": "python",
   "name": "python3"
  },
  "language_info": {
   "codemirror_mode": {
    "name": "ipython",
    "version": 3
   },
   "file_extension": ".py",
   "mimetype": "text/x-python",
   "name": "python",
   "nbconvert_exporter": "python",
   "pygments_lexer": "ipython3",
   "version": "3.8.8"
  }
 },
 "nbformat": 4,
 "nbformat_minor": 1
}
