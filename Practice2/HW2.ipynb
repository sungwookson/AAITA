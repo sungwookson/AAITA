{
 "cells": [
  {
   "cell_type": "markdown",
   "metadata": {},
   "source": [
    "# HW2: Inception network 구현\n",
    "## Due: 9/27 15:30"
   ]
  },
  {
   "cell_type": "markdown",
   "metadata": {},
   "source": [
    "[Inception network](https://www.cv-foundation.org/openaccess/content_cvpr_2015/papers/Szegedy_Going_Deeper_With_2015_CVPR_paper.pdf)는 Inception module 여러개로 구성된 모델이다. 다음 그림을 참고하여 Inception network를 구현하시오.\n",
    "\n",
    "- **채점 기준**\n",
    "  - Inception module을 잘 구현해야 한다.\n",
    "  - 아래의 표에 있는 대로 architecture를 구현해야 한다. (논문과 약간 다르게 auxiliary classifier 등이 생략되어 있다)\n",
    "  - 아래의 **표에 있는 대로 hyperparameter(filter size, stride, filter 수)를 설정**해야 하고, 각 layer 및 module의 **output size가 표와 같게 나와야 한다.**\n",
    "  - test accuracy가 **65% 이상** 나와야 한다.\n",
    " \n",
    "- **제출**\n",
    "  - 주피터 파일 제출 (output 지우지 말아 주세요)"
   ]
  },
  {
   "cell_type": "markdown",
   "metadata": {},
   "source": [
    "### Inception module\n",
    "\n",
    "- `strides`는 모두 1로 설정해야 output size가 맞게 나올 것이다.\n",
    "\n",
    "\n",
    "\n",
    "<img src=\"https://user-images.githubusercontent.com/37704174/108797724-369ef800-75cf-11eb-987a-926657daf61e.JPG\" width=\"400\" height=\"400\"/>  \n",
    "\n"
   ]
  },
  {
   "cell_type": "markdown",
   "metadata": {},
   "source": [
    "### Inception network architecture\n",
    "- 아래의 표에 있는대로 구성을 하면 이러한 구조의 모델이 만들어진다.\n",
    "\n",
    "<img src=\"https://user-images.githubusercontent.com/37704174/108797713-2dae2680-75cf-11eb-8593-5a1bf50549da.png\" width=\"400\" height=\"400\"/>  "
   ]
  },
  {
   "cell_type": "markdown",
   "metadata": {},
   "source": [
    "### specification\n",
    "\n",
    "\n",
    "<img src=\"https://user-images.githubusercontent.com/37704174/109782740-8d9a7200-7c4c-11eb-9999-d859b67dc468.JPG\" width=\"600\" height=\"600\"/>  \n",
    "\n",
    "- 이 표에 있는 대로 위에서부터 layer 및 Inception module을 쌓아야 한다.\n",
    "- 모든 `Conv2D`와 `MaxPool2D`의 padding 옵션은 `same`으로 설정해야 output size가 올바르게 나올 것이다.\n",
    "- 표 3행을 보면 convolution의 depth가 2이다. 이것은 `Conv2D` layer가 2개 있다는 뜻이고, 각각의 filter의 수는 64, 192로 설정해야 한다.\n",
    "- Inception module의 hyperparameter 설명\n",
    "  - #1x1: 맨 왼쪽 1x1 convolution layer의 filter 수\n",
    "  - #3x3 reduce: 3x3 convolution layer 이전에 나오는 1x1 convolution layer의 filter 수\n",
    "  - #3x3: 3x3 convolution layer의 filter 수\n",
    "  - #5x5 reduce: 5x5 convolution layer 이전에 나오는 1x1 convolution layer의 filter 수\n",
    "  - #5x5: 5x5 convolution layer의 filter 수\n",
    "  - pool proj: max pooling 다음에 나오는 1x1 convolution layer의 filter 수"
   ]
  },
  {
   "cell_type": "markdown",
   "metadata": {},
   "source": [
    "### 사용할 모듈 import"
   ]
  },
  {
   "cell_type": "code",
   "execution_count": 1,
   "metadata": {},
   "outputs": [],
   "source": [
    "import tensorflow as tf\n",
    "### 자유롭게 import"
   ]
  },
  {
   "cell_type": "markdown",
   "metadata": {},
   "source": [
    "### Inception module 구현\n"
   ]
  },
  {
   "cell_type": "code",
   "execution_count": 3,
   "metadata": {},
   "outputs": [],
   "source": [
    "def InceptionModule(inputs, f_1x1, f_3x3_r, f_3x3, f_5x5_r, f_5x5, f_pool):\n",
    "    '''\n",
    "    inputs: Inception module의 인풋\n",
    "    f_ : 위의 표에 나와있는 filter 수\n",
    "    \n",
    "    '''\n",
    "    \n",
    "    \n",
    "    outputs = # use tf.keras.layers.concatenate\n",
    "    \n",
    "    return outputs"
   ]
  },
  {
   "cell_type": "markdown",
   "metadata": {},
   "source": [
    "### Inception network 구현"
   ]
  },
  {
   "cell_type": "code",
   "execution_count": 4,
   "metadata": {},
   "outputs": [],
   "source": [
    "def InceptionNet():\n",
    "    inputs = tf.keras.layers.Input(shape=(32, 32, 3))\n",
    "    '''\n",
    "    표에 있는 대로 모델을 만들어 주세요\n",
    "    '''\n",
    "\n",
    "    \n",
    "    outputs = \n",
    "    \n",
    "    return tf.keras.Model(inputs=inputs, outputs=outputs)"
   ]
  },
  {
   "cell_type": "code",
   "execution_count": 5,
   "metadata": {},
   "outputs": [],
   "source": [
    "my_inception = InceptionNet()"
   ]
  },
  {
   "cell_type": "markdown",
   "metadata": {},
   "source": [
    "### 모델 summary\n",
    "\n",
    "아래 셀을 실행 했을 때, 표의 각각에 해당하는 output size가 맞게 나와야 한다."
   ]
  },
  {
   "cell_type": "code",
   "execution_count": null,
   "metadata": {},
   "outputs": [],
   "source": [
    "my_inception.summary()"
   ]
  },
  {
   "cell_type": "markdown",
   "metadata": {},
   "source": [
    "### training data (아래 셀 수정 금지)\n",
    "\n",
    "아래의 데이터를 이용한다."
   ]
  },
  {
   "cell_type": "code",
   "execution_count": 7,
   "metadata": {},
   "outputs": [],
   "source": [
    "# DO NOT MODIFY\n",
    "\n",
    "#Load data\n",
    "(x_train, y_train), (x_test, y_test) = cifar10.load_data()\n",
    "\n",
    "#Split train set into train/valid set\n",
    "from sklearn import model_selection\n",
    "x_train, x_valid, y_train, y_valid = model_selection.train_test_split(x_train, y_train,test_size=0.1)"
   ]
  },
  {
   "cell_type": "markdown",
   "metadata": {},
   "source": [
    "### data preprocessing\n",
    "\n",
    "원하는 대로 데이터를 전처리 해주면 된다."
   ]
  },
  {
   "cell_type": "code",
   "execution_count": null,
   "metadata": {},
   "outputs": [],
   "source": [
    "# data preprocessing (ex normalize...)"
   ]
  },
  {
   "cell_type": "markdown",
   "metadata": {},
   "source": [
    "### model compile\n",
    "\n",
    "optimizer, loss function을 알맞게 설정한다."
   ]
  },
  {
   "cell_type": "code",
   "execution_count": 8,
   "metadata": {},
   "outputs": [],
   "source": [
    "my_inception.compile( ...  )"
   ]
  },
  {
   "cell_type": "markdown",
   "metadata": {},
   "source": [
    "### model training\n",
    "\n",
    "hyperparameter를 적절히 설정한다. (epochs 등..)"
   ]
  },
  {
   "cell_type": "code",
   "execution_count": null,
   "metadata": {},
   "outputs": [],
   "source": [
    "hist = my_inception.fit(x=x_train, \n",
    "                        y=y_train, \n",
    "                        validation_data=(x_valid, y_valid)\n",
    "                        # your hyperparameters...\n",
    "                        )"
   ]
  },
  {
   "cell_type": "markdown",
   "metadata": {},
   "source": [
    "### 참고용\n",
    "\n",
    "조교가 학습한 모델의 validation accuracy를 그래프로 나타내 보았다."
   ]
  },
  {
   "cell_type": "code",
   "execution_count": 18,
   "metadata": {
    "scrolled": true
   },
   "outputs": [
    {
     "data": {
      "image/png": "[encoded data removed]",
      "text/plain": [
       "<Figure size 432x288 with 1 Axes>"
      ]
     },
     "metadata": {
      "needs_background": "light"
     },
     "output_type": "display_data"
    }
   ],
   "source": [
    "import matplotlib.pyplot as plt\n",
    "\n",
    "plt.plot(hist.history['val_accuracy'])\n",
    "plt.title('Validation Accuracy', fontsize=15)\n",
    "plt.xlabel('epochs', fontsize=15)\n",
    "plt.ylabel('Acc.', fontsize=15)\n",
    "\n",
    "plt.show()"
   ]
  },
  {
   "cell_type": "markdown",
   "metadata": {},
   "source": [
    "## Test Accuracy\n",
    "\n",
    "test accuracy 측정 결과 **65% 이상**이 나와야 한다."
   ]
  },
  {
   "cell_type": "code",
   "execution_count": null,
   "metadata": {},
   "outputs": [],
   "source": [
    "my_inception.evaluate(x_test, y_test)"
   ]
  },
  {
   "cell_type": "code",
   "execution_count": null,
   "metadata": {},
   "outputs": [],
   "source": []
  },
  {
   "cell_type": "code",
   "execution_count": null,
   "metadata": {},
   "outputs": [],
   "source": []
  }
 ],
 "metadata": {
  "kernelspec": {
   "display_name": "Python 3",
   "language": "python",
   "name": "python3"
  },
  "language_info": {
   "codemirror_mode": {
    "name": "ipython",
    "version": 3
   },
   "file_extension": ".py",
   "mimetype": "text/x-python",
   "name": "python",
   "nbconvert_exporter": "python",
   "pygments_lexer": "ipython3",
   "version": "3.8.8"
  }
 },
 "nbformat": 4,
 "nbformat_minor": 4
}
